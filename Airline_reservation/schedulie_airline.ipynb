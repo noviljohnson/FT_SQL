{
 "cells": [
  {
   "cell_type": "code",
   "execution_count": 2,
   "id": "b218160e",
   "metadata": {},
   "outputs": [],
   "source": [
    "import pandas as pd\n",
    "import numpy as np"
   ]
  },
  {
   "cell_type": "code",
   "execution_count": 4,
   "id": "96b1043c",
   "metadata": {
    "scrolled": true
   },
   "outputs": [
    {
     "data": {
      "text/html": [
       "<div>\n",
       "<style scoped>\n",
       "    .dataframe tbody tr th:only-of-type {\n",
       "        vertical-align: middle;\n",
       "    }\n",
       "\n",
       "    .dataframe tbody tr th {\n",
       "        vertical-align: top;\n",
       "    }\n",
       "\n",
       "    .dataframe thead th {\n",
       "        text-align: right;\n",
       "    }\n",
       "</style>\n",
       "<table border=\"1\" class=\"dataframe\">\n",
       "  <thead>\n",
       "    <tr style=\"text-align: right;\">\n",
       "      <th></th>\n",
       "      <th>Unnamed: 0</th>\n",
       "      <th>ord_airport</th>\n",
       "      <th>dest_airport</th>\n",
       "      <th>depart_time</th>\n",
       "      <th>arr_time</th>\n",
       "      <th>day</th>\n",
       "    </tr>\n",
       "  </thead>\n",
       "  <tbody>\n",
       "    <tr>\n",
       "      <th>0</th>\n",
       "      <td>0</td>\n",
       "      <td>BTR</td>\n",
       "      <td>ATL</td>\n",
       "      <td>7:27</td>\n",
       "      <td>9:57</td>\n",
       "      <td>2023-02-2</td>\n",
       "    </tr>\n",
       "    <tr>\n",
       "      <th>1</th>\n",
       "      <td>1</td>\n",
       "      <td>BTR</td>\n",
       "      <td>ATL</td>\n",
       "      <td>8:28</td>\n",
       "      <td>10:46</td>\n",
       "      <td>2023-02-2</td>\n",
       "    </tr>\n",
       "    <tr>\n",
       "      <th>2</th>\n",
       "      <td>2</td>\n",
       "      <td>BTR</td>\n",
       "      <td>IAH</td>\n",
       "      <td>16:49</td>\n",
       "      <td>18:01</td>\n",
       "      <td>2023-02-2</td>\n",
       "    </tr>\n",
       "    <tr>\n",
       "      <th>3</th>\n",
       "      <td>3</td>\n",
       "      <td>BTR</td>\n",
       "      <td>DFW</td>\n",
       "      <td>17:47</td>\n",
       "      <td>19:19</td>\n",
       "      <td>2023-02-2</td>\n",
       "    </tr>\n",
       "    <tr>\n",
       "      <th>4</th>\n",
       "      <td>4</td>\n",
       "      <td>BTR</td>\n",
       "      <td>IAH</td>\n",
       "      <td>11:39</td>\n",
       "      <td>13:04</td>\n",
       "      <td>2023-02-2</td>\n",
       "    </tr>\n",
       "  </tbody>\n",
       "</table>\n",
       "</div>"
      ],
      "text/plain": [
       "   Unnamed: 0 ord_airport dest_airport depart_time arr_time        day\n",
       "0           0         BTR          ATL        7:27     9:57  2023-02-2\n",
       "1           1         BTR          ATL        8:28    10:46  2023-02-2\n",
       "2           2         BTR          IAH       16:49    18:01  2023-02-2\n",
       "3           3         BTR          DFW       17:47    19:19  2023-02-2\n",
       "4           4         BTR          IAH       11:39    13:04  2023-02-2"
      ]
     },
     "execution_count": 4,
     "metadata": {},
     "output_type": "execute_result"
    }
   ],
   "source": [
    "sch = pd.read_csv(\"C:/Users/miles.MILE-BL-4766-LA.000/Documents/FT/airline_data/tbl_schedule_2.csv\")\n",
    "sch.head()"
   ]
  },
  {
   "cell_type": "code",
   "execution_count": null,
   "id": "3c2387bc",
   "metadata": {},
   "outputs": [],
   "source": []
  },
  {
   "cell_type": "code",
   "execution_count": 9,
   "id": "ddd0df35",
   "metadata": {},
   "outputs": [],
   "source": [
    "status = ('Scheduled','Delayed','Departed','In Air',\n",
    " 'Expected','Diverted','Recovery','Landed',\n",
    " 'Arrived','Cancelled','No Takeoff','Past Flight')"
   ]
  },
  {
   "cell_type": "code",
   "execution_count": 13,
   "id": "6f8fe4f0",
   "metadata": {},
   "outputs": [
    {
     "data": {
      "text/html": [
       "<div>\n",
       "<style scoped>\n",
       "    .dataframe tbody tr th:only-of-type {\n",
       "        vertical-align: middle;\n",
       "    }\n",
       "\n",
       "    .dataframe tbody tr th {\n",
       "        vertical-align: top;\n",
       "    }\n",
       "\n",
       "    .dataframe thead th {\n",
       "        text-align: right;\n",
       "    }\n",
       "</style>\n",
       "<table border=\"1\" class=\"dataframe\">\n",
       "  <thead>\n",
       "    <tr style=\"text-align: right;\">\n",
       "      <th></th>\n",
       "      <th>flight_call</th>\n",
       "      <th>schedule_id</th>\n",
       "      <th>status</th>\n",
       "    </tr>\n",
       "  </thead>\n",
       "  <tbody>\n",
       "    <tr>\n",
       "      <th>0</th>\n",
       "      <td>1</td>\n",
       "      <td>0</td>\n",
       "      <td></td>\n",
       "    </tr>\n",
       "    <tr>\n",
       "      <th>1</th>\n",
       "      <td>2</td>\n",
       "      <td>1</td>\n",
       "      <td></td>\n",
       "    </tr>\n",
       "    <tr>\n",
       "      <th>2</th>\n",
       "      <td>3</td>\n",
       "      <td>2</td>\n",
       "      <td></td>\n",
       "    </tr>\n",
       "    <tr>\n",
       "      <th>3</th>\n",
       "      <td>4</td>\n",
       "      <td>3</td>\n",
       "      <td></td>\n",
       "    </tr>\n",
       "    <tr>\n",
       "      <th>4</th>\n",
       "      <td>5</td>\n",
       "      <td>4</td>\n",
       "      <td></td>\n",
       "    </tr>\n",
       "  </tbody>\n",
       "</table>\n",
       "</div>"
      ],
      "text/plain": [
       "   flight_call  schedule_id status\n",
       "0            1            0       \n",
       "1            2            1       \n",
       "2            3            2       \n",
       "3            4            3       \n",
       "4            5            4       "
      ]
     },
     "execution_count": 13,
     "metadata": {},
     "output_type": "execute_result"
    }
   ],
   "source": [
    "# sch.shape\n",
    "flight_call = [i for i in range(1,5191)]\n",
    "sch_id = list(sch['Unnamed: 0'])\n",
    "sts = ['']*5190\n",
    "\n",
    "flight_tbl = pd.DataFrame({'flight_call':flight_call, 'schedule_id':sch_id, 'status':sts})\n",
    "flight_tbl.head()"
   ]
  },
  {
   "cell_type": "code",
   "execution_count": 15,
   "id": "3d5e35e7",
   "metadata": {},
   "outputs": [],
   "source": [
    "flight_tbl.to_csv(\"C:/Users/miles.MILE-BL-4766-LA.000/Documents/FT/airline_data/tbl_flights.csv\")"
   ]
  },
  {
   "cell_type": "code",
   "execution_count": 16,
   "id": "5ac2caa8",
   "metadata": {},
   "outputs": [
    {
     "data": {
      "text/plain": [
       "(5190, 3)"
      ]
     },
     "execution_count": 16,
     "metadata": {},
     "output_type": "execute_result"
    }
   ],
   "source": [
    "flight_tbl.shape"
   ]
  },
  {
   "cell_type": "code",
   "execution_count": null,
   "id": "e6d11952",
   "metadata": {},
   "outputs": [],
   "source": [
    "for i in range(1,24):\n",
    "    "
   ]
  },
  {
   "cell_type": "code",
   "execution_count": null,
   "id": "1cba3d95",
   "metadata": {},
   "outputs": [],
   "source": []
  },
  {
   "cell_type": "code",
   "execution_count": null,
   "id": "ffa0fc13",
   "metadata": {},
   "outputs": [],
   "source": []
  }
 ],
 "metadata": {
  "kernelspec": {
   "display_name": "Python 3 (ipykernel)",
   "language": "python",
   "name": "python3"
  },
  "language_info": {
   "codemirror_mode": {
    "name": "ipython",
    "version": 3
   },
   "file_extension": ".py",
   "mimetype": "text/x-python",
   "name": "python",
   "nbconvert_exporter": "python",
   "pygments_lexer": "ipython3",
   "version": "3.9.13"
  }
 },
 "nbformat": 4,
 "nbformat_minor": 5
}
