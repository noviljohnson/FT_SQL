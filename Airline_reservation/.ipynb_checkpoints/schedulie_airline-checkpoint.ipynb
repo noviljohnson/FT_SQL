{
 "cells": [
  {
   "cell_type": "code",
   "execution_count": 2,
   "id": "76ffcfd3",
   "metadata": {},
   "outputs": [],
   "source": [
    "import pandas as pd\n",
    "import numpy as np"
   ]
  },
  {
   "cell_type": "code",
   "execution_count": 3,
   "id": "5337b751",
   "metadata": {
    "scrolled": true
   },
   "outputs": [],
   "source": [
    "sch = pd.read_csv(\"C:/Users/miles.MILE-BL-4766-LA.000/Documents/FT/airline_data/tbl_schedule_2.csv\")"
   ]
  },
  {
   "cell_type": "code",
   "execution_count": null,
   "id": "9741e1e0",
   "metadata": {},
   "outputs": [],
   "source": []
  }
 ],
 "metadata": {
  "kernelspec": {
   "display_name": "Python 3 (ipykernel)",
   "language": "python",
   "name": "python3"
  },
  "language_info": {
   "codemirror_mode": {
    "name": "ipython",
    "version": 3
   },
   "file_extension": ".py",
   "mimetype": "text/x-python",
   "name": "python",
   "nbconvert_exporter": "python",
   "pygments_lexer": "ipython3",
   "version": "3.9.13"
  }
 },
 "nbformat": 4,
 "nbformat_minor": 5
}
